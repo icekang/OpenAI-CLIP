{
 "cells": [
  {
   "cell_type": "code",
   "execution_count": 1,
   "id": "3f2bde3c-e52f-4060-9c9d-b7d2b694511f",
   "metadata": {},
   "outputs": [],
   "source": [
    "from nnunetv2.run.run_training import get_trainer_from_args\n",
    "from nnunetv2.run.load_pretrained_weights import load_pretrained_weights"
   ]
  },
  {
   "cell_type": "code",
   "execution_count": 2,
   "id": "494cd46a-8b0a-4e46-b3eb-c6879c123403",
   "metadata": {},
   "outputs": [
    {
     "name": "stderr",
     "output_type": "stream",
     "text": [
      "/home/gridsan/nchutisilp/.local/lib/python3.9/site-packages/tqdm/auto.py:21: TqdmWarning: IProgress not found. Please update jupyter and ipywidgets. See https://ipywidgets.readthedocs.io/en/stable/user_install.html\n",
      "  from .autonotebook import tqdm as notebook_tqdm\n"
     ]
    }
   ],
   "source": [
    "import config as CFG\n",
    "import torch\n",
    "from main import make_train_valid_dfs, build_loaders, valid_epoch\n",
    "import torchio as tio"
   ]
  },
  {
   "cell_type": "code",
   "execution_count": 4,
   "id": "fbd80e40-a798-451e-b292-b5f2eeca3b57",
   "metadata": {},
   "outputs": [
    {
     "name": "stdout",
     "output_type": "stream",
     "text": [
      "Using device: cpu\n",
      "\n",
      "#######################################################################\n",
      "Please cite the following paper when using nnU-Net:\n",
      "Isensee, F., Jaeger, P. F., Kohl, S. A., Petersen, J., & Maier-Hein, K. H. (2021). nnU-Net: a self-configuring method for deep learning-based biomedical image segmentation. Nature methods, 18(2), 203-211.\n",
      "#######################################################################\n",
      "\n"
     ]
    },
    {
     "name": "stderr",
     "output_type": "stream",
     "text": [
      "/home/gridsan/nchutisilp/.local/lib/python3.9/site-packages/torch/optim/lr_scheduler.py:28: UserWarning: The verbose parameter is deprecated. Please use get_last_lr() to access the learning rate.\n",
      "  warnings.warn(\"The verbose parameter is deprecated. Please use get_last_lr() \"\n"
     ]
    },
    {
     "name": "stdout",
     "output_type": "stream",
     "text": [
      "################### Loading pretrained weights from file  /home/gridsan/nchutisilp/datasets/ModelGenesisOutputs/ModelGenesisNNUNetPretrainingV2_noNorm_correct_orientation/Converted_nnUNet_Genesis_OCT_Best.pt ###################\n"
     ]
    }
   ],
   "source": [
    "CFG.experiment_name=\"CLIP_debug_feature_visualization\"\n",
    "CFG.nnUNet['configuration'] = '3d_32x512x512_b2'\n",
    "CFG.nnUNet['dataset_name_or_id'] = '302'\n",
    "CFG.nnUNet['fold'] = '2'\n",
    "\n",
    "trainer = get_trainer_from_args(\n",
    "    dataset_name_or_id=CFG.nnUNet['dataset_name_or_id'],\n",
    "    configuration=CFG.nnUNet['configuration'],\n",
    "    fold=CFG.nnUNet['fold'],\n",
    "    trainer_name=CFG.nnUNet['trainer_name'],\n",
    "    plans_identifier=CFG.nnUNet['plans_identifier'],\n",
    "    device=torch.device('cpu'))\n",
    "trainer.initialize()\n",
    "# load_pretrained_weights(trainer.network, '/home/gridsan/nchutisilp/datasets/nnUNet_Datasets/nnUNet_results/Dataset302_Calcium_OCTv2/nnUNetTrainer__nnUNetPlans__3d_32x512x512_b2/fold_2_pretrained_CLIP/checkpoint_best.pth')\n",
    "# load_pretrained_weights(trainer.network, '/home/gridsan/nchutisilp/projects/OpenAI-CLIP/clip_pretrained_nnUNet.pt')\n",
    "load_pretrained_weights(trainer.network, '/home/gridsan/nchutisilp/datasets/ModelGenesisOutputs/ModelGenesisNNUNetPretrainingV2_noNorm_correct_orientation/Converted_nnUNet_Genesis_OCT_Best.pt')\n"
   ]
  },
  {
   "cell_type": "code",
   "execution_count": 4,
   "id": "48916107-4192-4fe5-8416-5ce66dcfdbce",
   "metadata": {},
   "outputs": [],
   "source": [
    "# train_dataframe, valid_dataframe = make_train_valid_dfs()\n",
    "# valid_dl = build_loaders(dataframe=valid_dataframe, mode='valid')"
   ]
  },
  {
   "cell_type": "code",
   "execution_count": 5,
   "id": "ab0b31ca-a5e1-4959-890c-3904b210e4e7",
   "metadata": {},
   "outputs": [],
   "source": [
    "# torch.cuda.empty_cache()"
   ]
  },
  {
   "cell_type": "code",
   "execution_count": 6,
   "id": "4ef22542-1e61-44f9-ae59-2665a4e454ed",
   "metadata": {},
   "outputs": [],
   "source": [
    "_ = trainer.network.to(CFG.device)"
   ]
  },
  {
   "cell_type": "code",
   "execution_count": 7,
   "id": "14743105-e10d-4286-a88f-d5466884b3de",
   "metadata": {},
   "outputs": [],
   "source": [
    "# for batch in valid_dl:\n",
    "#     device = CFG.device\n",
    "#     batch['image1'] = batch['image1'][tio.DATA].permute(0, 1, 4, 3, 2).to(device)\n",
    "#     batch['image2'] = batch['image2'][tio.DATA].permute(0, 1, 4, 3, 2).to(device)\n",
    "#     break"
   ]
  },
  {
   "cell_type": "code",
   "execution_count": 5,
   "id": "135b7d42-cf8c-4043-8212-03584ed62685",
   "metadata": {},
   "outputs": [],
   "source": [
    "# torch.save(batch, 'validation_batch.pth')\n",
    "batch = torch.load('validation_batch.pth', map_location='cpu')"
   ]
  },
  {
   "cell_type": "code",
   "execution_count": 6,
   "id": "43660471-4641-4ee0-b6fb-e6dee4c5dcd5",
   "metadata": {},
   "outputs": [
    {
     "data": {
      "text/plain": [
       "torch.Size([16, 1, 32, 512, 512])"
      ]
     },
     "execution_count": 6,
     "metadata": {},
     "output_type": "execute_result"
    }
   ],
   "source": [
    "batch['image1'].shape"
   ]
  },
  {
   "cell_type": "code",
   "execution_count": 56,
   "id": "6987df1d-b237-46dd-97e4-cbf926bbffb2",
   "metadata": {},
   "outputs": [
    {
     "name": "stderr",
     "output_type": "stream",
     "text": [
      "/home/gridsan/nchutisilp/.local/lib/python3.9/site-packages/torch/amp/autocast_mode.py:250: UserWarning: User provided device_type of 'cuda', but CUDA is not available. Disabling\n",
      "  warnings.warn(\n"
     ]
    }
   ],
   "source": [
    "trainer.network.eval()\n",
    "with torch.no_grad():\n",
    "    with torch.autocast(device_type=\"cuda\", dtype=torch.float16):\n",
    "        output = trainer.network.encoder(batch['image1'][0:1])\n",
    "# print(output.shape)"
   ]
  },
  {
   "cell_type": "code",
   "execution_count": 7,
   "id": "06d30c6e-2821-4576-a4fe-5b4fb0aff3ec",
   "metadata": {},
   "outputs": [],
   "source": [
    "import matplotlib.pyplot as plt\n",
    "import torch\n",
    "import yaml\n",
    "import numpy as np\n",
    "import torch.nn.functional as F\n",
    "\n",
    "# %%\n",
    "def get_robust_pca(features: torch.Tensor, m: float = 2, remove_first_component=False):\n",
    "    # features: (N, C)\n",
    "    # m: a hyperparam controlling how many std dev outside for outliers\n",
    "    assert len(features.shape) == 2, \"features should be (N, C)\"\n",
    "    reduction_mat = torch.pca_lowrank(features, q=3, niter=20)[2]\n",
    "    colors = features @ reduction_mat\n",
    "    if remove_first_component:\n",
    "        colors_min = colors.min(dim=0).values\n",
    "        colors_max = colors.max(dim=0).values\n",
    "        tmp_colors = (colors - colors_min) / (colors_max - colors_min)\n",
    "        fg_mask = tmp_colors[..., 0] < 0.2\n",
    "        reduction_mat = torch.pca_lowrank(features[fg_mask], q=3, niter=20)[2]\n",
    "        colors = features @ reduction_mat\n",
    "    else:\n",
    "        fg_mask = torch.ones_like(colors[:, 0]).bool()\n",
    "    d = torch.abs(colors[fg_mask] - torch.median(colors[fg_mask], dim=0).values)\n",
    "    mdev = torch.median(d, dim=0).values\n",
    "    s = d / mdev\n",
    "    try:\n",
    "        rins = colors[fg_mask][s[:, 0] < m, 0]\n",
    "        gins = colors[fg_mask][s[:, 1] < m, 1]\n",
    "        bins = colors[fg_mask][s[:, 2] < m, 2]\n",
    "        rgb_min = torch.tensor([rins.min(), gins.min(), bins.min()])\n",
    "        rgb_max = torch.tensor([rins.max(), gins.max(), bins.max()])\n",
    "    except:\n",
    "        rins = colors\n",
    "        gins = colors\n",
    "        bins = colors\n",
    "        rgb_min = torch.tensor([rins.min(), gins.min(), bins.min()])\n",
    "        rgb_max = torch.tensor([rins.max(), gins.max(), bins.max()])\n",
    "\n",
    "    return reduction_mat, rgb_min.to(reduction_mat), rgb_max.to(reduction_mat)\n",
    "\n",
    "\n",
    "def get_pca_map_whole_volume(\n",
    "    feature_map: torch.Tensor,\n",
    "    img_size,\n",
    "    interpolation=\"bicubic\",\n",
    "    return_pca_stats=False,\n",
    "    pca_stats=None,\n",
    "    remove_first_component=False,\n",
    "):\n",
    "    \"\"\"\n",
    "    feature_map: (num_frames, h, w, C) is the feature map of a single image.\n",
    "    \"\"\"\n",
    "    # print(feature_map.shape)\n",
    "    if feature_map.shape[0] != 1:\n",
    "        # make it (1, num_frames, h, w, C)\n",
    "        feature_map = feature_map[None]\n",
    "    if pca_stats is None:\n",
    "        reduct_mat, color_min, color_max = get_robust_pca(\n",
    "            feature_map.reshape(-1, feature_map.shape[-1]),\n",
    "            remove_first_component=remove_first_component,\n",
    "        )\n",
    "    else:\n",
    "        reduct_mat, color_min, color_max = pca_stats\n",
    "    pca_color = feature_map @ reduct_mat\n",
    "    pca_color = (pca_color - color_min) / (color_max - color_min)\n",
    "    pca_color = pca_color.clamp(0, 1)\n",
    "    resized_pca_colors = []\n",
    "    for i in range(pca_color.shape[1]):\n",
    "        resized_pca_color = F.interpolate(\n",
    "            pca_color[:, i, :, :, :].permute(0, 3, 1, 2),\n",
    "            size=img_size,\n",
    "            mode=interpolation,\n",
    "        ).permute(0, 2, 3, 1)\n",
    "        resized_pca_colors.append(resized_pca_color.cpu().numpy().squeeze(0))\n",
    "    pca_color = np.stack(resized_pca_colors, axis=0)\n",
    "    if return_pca_stats:\n",
    "        return pca_color, (reduct_mat, color_min, color_max)\n",
    "    return pca_color"
   ]
  },
  {
   "cell_type": "code",
   "execution_count": null,
   "id": "7bc561f2-a711-4c1c-8fec-2d0854fcad4b",
   "metadata": {},
   "outputs": [],
   "source": [
    "for feature in output:\n",
    "    print(feature.shape)"
   ]
  },
  {
   "cell_type": "code",
   "execution_count": 7,
   "id": "9546c170-ddac-4ec0-8afe-18d7357a8d78",
   "metadata": {},
   "outputs": [
    {
     "name": "stdout",
     "output_type": "stream",
     "text": [
      "torch.Size([1, 32, 512, 512])\n"
     ]
    }
   ],
   "source": [
    "print(batch['image1'][0].shape)\n",
    "\n",
    "step = 4\n",
    "fig, axes = plt.subplots(nrows=1, ncols=batch['image1'][0].shape[1] // step, figsize=(40, 40))\n",
    "for i_col in range(0, batch['image1'][0].shape[1], step):\n",
    "    axes[i_col//step].imshow(batch['image1'][0][0, i_col], cmap='gray')\n",
    "fig.savefig('original_image_for_feature_visualization.pdf')"
   ]
  },
  {
   "cell_type": "code",
   "execution_count": 10,
   "id": "27473e4b-77e9-4b48-b88f-2808053f97aa",
   "metadata": {},
   "outputs": [],
   "source": [
    "%matplotlib inline\n",
    "\n",
    "CFG.experiment_name=\"CLIP_debug_feature_visualization\"\n",
    "CFG.nnUNet['configuration'] = '3d_32x512x512_b2'\n",
    "CFG.nnUNet['dataset_name_or_id'] = '302'\n",
    "CFG.nnUNet['fold'] = '2'\n",
    "\n",
    "trainer = get_trainer_from_args(\n",
    "    dataset_name_or_id=CFG.nnUNet['dataset_name_or_id'],\n",
    "    configuration=CFG.nnUNet['configuration'],\n",
    "    fold=CFG.nnUNet['fold'],\n",
    "    trainer_name=CFG.nnUNet['trainer_name'],\n",
    "    plans_identifier=CFG.nnUNet['plans_identifier'],\n",
    "    device=torch.device('cpu'))\n",
    "trainer.initialize()\n",
    "load_pretrained_weights(trainer.network, '/home/gridsan/nchutisilp/datasets/ModelGenesisOutputs/ModelGenesisNNUNetPretrainingV2_noNorm_correct_orientation/Converted_nnUNet_Genesis_OCT_Best.pt')\n",
    "\n",
    "_ = trainer.network.to(CFG.device)\n",
    "\n",
    "for batch_index in range(0,16):\n",
    "    with torch.no_grad():\n",
    "        with torch.autocast(device_type=\"cuda\", dtype=torch.float16):\n",
    "            output = trainer.network.encoder(batch['image1'][batch_index:batch_index + 1])\n",
    "\n",
    "    for feature_index in range(len(output)):\n",
    "        feature = output[feature_index]\n",
    "        feature = get_pca_map_whole_volume(feature.permute(0, 2, 3, 4, 1), feature.shape[-2:], remove_first_component=True)\n",
    "\n",
    "        step = max(1, feature.shape[0] // 4)\n",
    "\n",
    "        fig, axes = plt.subplots(nrows=1, ncols=feature.shape[0] // step, figsize=(35, 10))\n",
    "        for i_col in range(0, feature.shape[0], step):\n",
    "            axes[i_col//step].imshow(feature[i_col])\n",
    "\n",
    "        fig.savefig(f'genesis_feature_map_batch{batch_index}_feature{feature_index}.png')        \n",
    "        plt.close()\n"
   ]
  },
  {
   "cell_type": "code",
   "execution_count": null,
   "id": "90e2ede0-e47b-4e7d-84f0-e5f6ed7906b6",
   "metadata": {},
   "outputs": [],
   "source": [
    "%matplotlib inline\n",
    "CFG.experiment_name=\"CLIP_debug_feature_visualization\"\n",
    "CFG.nnUNet['configuration'] = '3d_32x512x512_b2'\n",
    "CFG.nnUNet['dataset_name_or_id'] = '302'\n",
    "CFG.nnUNet['fold'] = '2'\n",
    "\n",
    "feature_index = 5\n",
    "\n",
    "\n",
    "trainer = get_trainer_from_args(\n",
    "    dataset_name_or_id=CFG.nnUNet['dataset_name_or_id'],\n",
    "    configuration=CFG.nnUNet['configuration'],\n",
    "    fold=CFG.nnUNet['fold'],\n",
    "    trainer_name=CFG.nnUNet['trainer_name'],\n",
    "    plans_identifier=CFG.nnUNet['plans_identifier'],\n",
    "    device=torch.device('cpu'))\n",
    "trainer.initialize()\n",
    "load_pretrained_weights(trainer.network, '/home/gridsan/nchutisilp/projects/OpenAI-CLIP/clip_pretrained_nnUNet.pt')\n",
    "trainer.network.eval()\n",
    "with torch.no_grad():\n",
    "    with torch.autocast(device_type=\"cuda\", dtype=torch.float16):\n",
    "        output = trainer.network.encoder(batch['image1'][0:1])\n",
    "\n",
    "\n",
    "\n",
    "feature = output[feature_index]\n",
    "feature = get_pca_map_whole_volume(feature.permute(0, 2, 3, 4, 1), (512, 512))\n",
    "\n",
    "step = 1\n",
    "fig, axes = plt.subplots(nrows=1, ncols=feature.shape[0] // step, figsize=(40, 40))\n",
    "for i_col in range(0, feature.shape[0], step):\n",
    "    axes[i_col//step].imshow(feature[i_col])\n",
    "\n",
    "\n",
    "trainer = get_trainer_from_args(\n",
    "    dataset_name_or_id=CFG.nnUNet['dataset_name_or_id'],\n",
    "    configuration=CFG.nnUNet['configuration'],\n",
    "    fold=CFG.nnUNet['fold'],\n",
    "    trainer_name=CFG.nnUNet['trainer_name'],\n",
    "    plans_identifier=CFG.nnUNet['plans_identifier'],\n",
    "    device=torch.device('cpu'))\n",
    "trainer.initialize()\n",
    "trainer.network.eval()\n",
    "with torch.no_grad():\n",
    "    with torch.autocast(device_type=\"cuda\", dtype=torch.float16):\n",
    "        output = trainer.network.encoder(batch['image1'][0:1])\n",
    "\n",
    "feature = output[feature_index]\n",
    "feature = get_pca_map_whole_volume(feature.permute(0, 2, 3, 4, 1), (512, 512))\n",
    "\n",
    "step = 1\n",
    "fig, axes = plt.subplots(nrows=1, ncols=feature.shape[0] // step, figsize=(40, 40))\n",
    "for i_col in range(0, feature.shape[0], step):\n",
    "    axes[i_col//step].imshow(feature[i_col])\n",
    "# fig.savefig('default_feature_map_0.pdf')\n",
    "# fig.savefig('clip_feature_map_0.pdf')"
   ]
  },
  {
   "cell_type": "code",
   "execution_count": null,
   "id": "e0be8958-ead4-4532-ac9e-f97a5244841c",
   "metadata": {},
   "outputs": [],
   "source": [
    "from CLIP import CLIPModel\n",
    "\n",
    "CFG.experiment_name = 'CLIP_debug_nnUnet'\n",
    "model = CLIPModel()\n",
    "# model.image_encoder1.load_state_dict(torch)\n",
    "CLIP_batch = dict()\n",
    "model.eval()\n",
    "with torch.no_grad():\n",
    "    with torch.autocast(device_type=\"cuda\", dtype=torch.float16):\n",
    "        # CLIP_batch['image1'] = batch['image1'][tio.DATA].permute(0, 1, 4, 3, 2).to(device)\n",
    "        # CLIP_batch['image2'] = batch['image2'][tio.DATA].permute(0, 1, 4, 3, 2).to(device)\n",
    "        loss = model(batch, mode=\"valid\", visualize=True)\n",
    "\n"
   ]
  },
  {
   "cell_type": "code",
   "execution_count": 20,
   "id": "dad0acc1-6ef0-4a82-bd5b-450fe7899c70",
   "metadata": {},
   "outputs": [
    {
     "name": "stdout",
     "output_type": "stream",
     "text": [
      "Using device: cpu\n",
      "\n",
      "#######################################################################\n",
      "Please cite the following paper when using nnU-Net:\n",
      "Isensee, F., Jaeger, P. F., Kohl, S. A., Petersen, J., & Maier-Hein, K. H. (2021). nnU-Net: a self-configuring method for deep learning-based biomedical image segmentation. Nature methods, 18(2), 203-211.\n",
      "#######################################################################\n",
      "\n"
     ]
    },
    {
     "name": "stderr",
     "output_type": "stream",
     "text": [
      "/home/gridsan/nchutisilp/.local/lib/python3.9/site-packages/torch/optim/lr_scheduler.py:28: UserWarning: The verbose parameter is deprecated. Please use get_last_lr() to access the learning rate.\n",
      "  warnings.warn(\"The verbose parameter is deprecated. Please use get_last_lr() \"\n"
     ]
    },
    {
     "name": "stdout",
     "output_type": "stream",
     "text": [
      "Using device: cpu\n",
      "\n",
      "#######################################################################\n",
      "Please cite the following paper when using nnU-Net:\n",
      "Isensee, F., Jaeger, P. F., Kohl, S. A., Petersen, J., & Maier-Hein, K. H. (2021). nnU-Net: a self-configuring method for deep learning-based biomedical image segmentation. Nature methods, 18(2), 203-211.\n",
      "#######################################################################\n",
      "\n"
     ]
    },
    {
     "name": "stderr",
     "output_type": "stream",
     "text": [
      "/home/gridsan/nchutisilp/.local/lib/python3.9/site-packages/torch/optim/lr_scheduler.py:28: UserWarning: The verbose parameter is deprecated. Please use get_last_lr() to access the learning rate.\n",
      "  warnings.warn(\"The verbose parameter is deprecated. Please use get_last_lr() \"\n"
     ]
    }
   ],
   "source": [
    "from CLIP import CLIPModel\n",
    "\n",
    "CFG.experiment_name = 'CLIP_debug_nnUnet'\n",
    "model2 = CLIPModel(shared_projector=True, shared_encoder=True)\n",
    "\n",
    "model1 = CLIPModel()\n",
    "model1.load_state_dict(torch.load('logs/shared_projector_shared_encoder/best.pt', map_location='cpu'))# model.image_encoder1.load_state_dict(torch)\n",
    "\n",
    "#load only projector weight to CLIP\n",
    "# model2.image_projection2 = model1.image_projection2\n",
    "# model2.image_projection1 = model1.image_projection1\n",
    "\n",
    "model = model1\n",
    "CLIP_batch = dict()\n",
    "model.eval()\n",
    "with torch.no_grad():\n",
    "    with torch.autocast(device_type=\"cuda\", dtype=torch.float16):\n",
    "        # CLIP_batch['image1'] = batch['image1'][tio.DATA].permute(0, 1, 4, 3, 2).to(device)\n",
    "        # CLIP_batch['image2'] = batch['image2'][tio.DATA].permute(0, 1, 4, 3, 2).to(device)\n",
    "        image1 = batch[\"image1\"]\n",
    "        image2 = batch[\"image2\"]\n",
    "\n",
    "        # Check for NaN values\n",
    "        masks = torch.isnan(image1) | torch.isnan(image2)\n",
    "        masks = ~masks.any(dim=(1, 2, 3, 4))\n",
    "        image1 = image1[masks]\n",
    "        image2 = image2[masks]\n",
    "\n",
    "        # Getting Image and Text Features\n",
    "        visual_features1 = model.image_encoder1.model(image1)\n",
    "        visual_features2 = model.image_encoder2.model(image2)\n",
    "        image_features1 = model.image_encoder1(image1)\n",
    "        image_features2 = model.image_encoder2(image2)\n",
    "\n",
    "        # Getting Image and Text Embeddings (with same dimension)\n",
    "        image_embeddings1 = model.image_projection1(image_features1)\n",
    "        image_embeddings2 = model.image_projection2(image_features2)\n",
    "        # loss = model(batch, mode=\"valid\", visualize=True)\n",
    "\n"
   ]
  },
  {
   "cell_type": "code",
   "execution_count": 16,
   "id": "29519f9a-47bc-4cde-b552-9ac2027c57aa",
   "metadata": {},
   "outputs": [
    {
     "data": {
      "image/png": "[encoded data removed]",
      "text/plain": [
       "<Figure size 640x480 with 1 Axes>"
      ]
     },
     "metadata": {},
     "output_type": "display_data"
    },
    {
     "data": {
      "text/plain": [
       "<Figure size 800x800 with 0 Axes>"
      ]
     },
     "metadata": {},
     "output_type": "display_data"
    }
   ],
   "source": [
    "# torch.save(image_embeddings1, 'image_embeddings1.pth')\n",
    "# torch.save(image_embeddings2, 'image_embeddings2.pth')\n",
    "\n",
    "image_embedding_all = torch.cat([image_embeddings1, image_embeddings2], dim=0)\n",
    "reduction_mat = torch.pca_lowrank(image_embedding_all, q=2, niter=20)[2]\n",
    "pca_features_all = image_embedding_all @ reduction_mat\n",
    "\n",
    "# print(reduction_mat.shape, colors.shape)\n",
    "\n",
    "%matplotlib inline\n",
    "from matplotlib import colormaps\n",
    "\n",
    "colors = colormaps['tab20']\n",
    "total = image_embeddings1.shape[0]\n",
    "np.random.seed(0)\n",
    "\n",
    "for i in range(total):\n",
    "    pair = pca_features_all[[i, i + total]]\n",
    "    plt.scatter(pair[:, 0], pair[:, 1], color=colors(i))\n",
    "plt.xlabel(\"PCA2\")\n",
    "plt.ylabel(\"PCA1\")\n",
    "plt.figure(figsize=(10, 10), dpi=80)\n",
    "plt.show()"
   ]
  },
  {
   "cell_type": "code",
   "execution_count": null,
   "id": "fffe105b-bfd3-47b6-bddd-9a56556ee931",
   "metadata": {},
   "outputs": [],
   "source": [
    "# back\n",
    "clip_real_state_dict = torch.load('logs/shared_projector_shared_encoder/best.pt', map_location='cpu')\n",
    "clip_nnunet_state_dict = torch.load('clip_pretrained_nnUNet.pt', map_location='cpu')\n",
    "for w in clip_nnunet_state_dict['network_weights']:\n",
    "    print(torch.eq(clip_real_state_dict[w.replace('encoder', 'image_encoder1.model')], clip_nnunet_state_dict['network_weights'][w]).all())"
   ]
  },
  {
   "cell_type": "code",
   "execution_count": 65,
   "id": "45871868-5773-4742-8cbd-f0e3c36ce0f1",
   "metadata": {},
   "outputs": [],
   "source": [
    "%matplotlib inline\n",
    "\n",
    "for batch_index in range(0,16):\n",
    "    with torch.no_grad():\n",
    "        with torch.autocast(device_type=\"cuda\", dtype=torch.float16):\n",
    "            output1 = model1.image_encoder1.model(batch['image1'][batch_index:batch_index + 1])\n",
    "\n",
    "    with torch.no_grad():\n",
    "        with torch.autocast(device_type=\"cuda\", dtype=torch.float16):\n",
    "            output2 = model2.image_encoder1.model(batch['image1'][batch_index:batch_index + 1])\n",
    "\n",
    "    fig, axes = plt.subplots(nrows=1, ncols=4, figsize=(35, 10))\n",
    "    step = batch['image1'][batch_index].shape[1] // 4\n",
    "    for i_col in range(0, batch['image1'][batch_index].shape[1], step):\n",
    "        axes[i_col//step].imshow(batch['image1'][batch_index][0][i_col], cmap='gray')\n",
    "    fig.savefig(f'image1_batch{batch_index}.png')\n",
    "    plt.close()\n",
    "    for feature_index in range(len(output2)):\n",
    "        feature = output1[feature_index]\n",
    "        feature = get_pca_map_whole_volume(feature.permute(0, 2, 3, 4, 1), feature.shape[-2:], remove_first_component=True)\n",
    "\n",
    "        step = max(1, feature.shape[0] // 4)\n",
    "\n",
    "        fig, axes = plt.subplots(nrows=1, ncols=feature.shape[0] // step, figsize=(35, 10))\n",
    "        for i_col in range(0, feature.shape[0], step):\n",
    "            axes[i_col//step].imshow(feature[i_col])\n",
    "\n",
    "        fig.savefig(f'clip_feature_map_batch{batch_index}_feature{feature_index}.png')        \n",
    "        plt.close()\n",
    "        feature = output2[feature_index]\n",
    "        feature = get_pca_map_whole_volume(feature.permute(0, 2, 3, 4, 1), feature.shape[-2:], remove_first_component=True)\n",
    "\n",
    "        fig, axes = plt.subplots(nrows=1, ncols=feature.shape[0] // step, figsize=(35, 10))\n",
    "        for i_col in range(0, feature.shape[0], step):\n",
    "            axes[i_col//step].imshow(feature[i_col])\n",
    "\n",
    "        fig.savefig(f'default_feature_map_batch{batch_index}_feature{feature_index}.png')\n",
    "        plt.close()"
   ]
  },
  {
   "cell_type": "code",
   "execution_count": null,
   "id": "31bba4c2-1b29-4ceb-b538-229ca0eda069",
   "metadata": {},
   "outputs": [],
   "source": []
  }
 ],
 "metadata": {
  "kernelspec": {
   "display_name": "Python [conda env:.conda-jepa]",
   "language": "python",
   "name": "conda-env-.conda-jepa-py"
  },
  "language_info": {
   "codemirror_mode": {
    "name": "ipython",
    "version": 3
   },
   "file_extension": ".py",
   "mimetype": "text/x-python",
   "name": "python",
   "nbconvert_exporter": "python",
   "pygments_lexer": "ipython3",
   "version": "3.9.19"
  }
 },
 "nbformat": 4,
 "nbformat_minor": 5
}
