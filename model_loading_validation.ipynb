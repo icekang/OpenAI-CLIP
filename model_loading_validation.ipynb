{
 "cells": [
  {
   "cell_type": "code",
   "execution_count": 1,
   "id": "aaa9a2e2-473d-4285-a6c9-51efbfd82273",
   "metadata": {},
   "outputs": [],
   "source": [
    "%load_ext autoreload\n",
    "%autoreload 2"
   ]
  },
  {
   "cell_type": "code",
   "execution_count": 2,
   "id": "7297fa1f-133b-4f8e-a24f-9c61e1ad71b4",
   "metadata": {},
   "outputs": [],
   "source": [
    "import os\n",
    "os.environ['WANDB_MODE'] = 'offline'"
   ]
  },
  {
   "cell_type": "code",
   "execution_count": 47,
   "id": "47dfc1b2-cc8a-42eb-bf78-72f69e32e840",
   "metadata": {},
   "outputs": [],
   "source": [
    "from modules import ImageEncoder"
   ]
  },
  {
   "cell_type": "code",
   "execution_count": 4,
   "id": "62668f1d-cd42-4e42-b81b-14a7d11d6307",
   "metadata": {},
   "outputs": [
    {
     "name": "stderr",
     "output_type": "stream",
     "text": [
      "Failed to detect the name of this notebook, you can set it manually with the WANDB_NOTEBOOK_NAME environment variable to enable code saving.\n"
     ]
    },
    {
     "name": "stdout",
     "output_type": "stream",
     "text": [
      "Using device: cpu\n"
     ]
    },
    {
     "data": {
      "text/html": [
       "Tracking run with wandb version 0.16.6"
      ],
      "text/plain": [
       "<IPython.core.display.HTML object>"
      ]
     },
     "metadata": {},
     "output_type": "display_data"
    },
    {
     "data": {
      "text/html": [
       "W&B syncing is set to <code>`offline`<code> in this directory.  <br/>Run <code>`wandb online`<code> or set <code>WANDB_MODE=online<code> to enable cloud syncing."
      ],
      "text/plain": [
       "<IPython.core.display.HTML object>"
      ]
     },
     "metadata": {},
     "output_type": "display_data"
    },
    {
     "name": "stdout",
     "output_type": "stream",
     "text": [
      "\n",
      "#######################################################################\n",
      "Please cite the following paper when using nnU-Net:\n",
      "Isensee, F., Jaeger, P. F., Kohl, S. A., Petersen, J., & Maier-Hein, K. H. (2021). nnU-Net: a self-configuring method for deep learning-based biomedical image segmentation. Nature methods, 18(2), 203-211.\n",
      "#######################################################################\n",
      "\n",
      "2024-07-17 14:25:51.559287: Using torch.compile...\n"
     ]
    },
    {
     "name": "stderr",
     "output_type": "stream",
     "text": [
      "/home/gridsan/nchutisilp/.local/lib/python3.9/site-packages/torch/optim/lr_scheduler.py:28: UserWarning: The verbose parameter is deprecated. Please use get_last_lr() to access the learning rate.\n",
      "  warnings.warn(\"The verbose parameter is deprecated. Please use get_last_lr() \"\n"
     ]
    }
   ],
   "source": [
    "from nnunetv2.run.run_training import get_trainer_from_args\n",
    "import torch\n",
    "\n",
    "trainer = get_trainer_from_args(\n",
    "    dataset_name_or_id='302',\n",
    "    configuration='3d_32x512x512_b2',\n",
    "    fold=0,\n",
    "    trainer_name='nnUNetTrainer',\n",
    "    plans_identifier='nnUNetPlans',\n",
    "    device=torch.device('cpu'))\n",
    "trainer.initialize()"
   ]
  },
  {
   "cell_type": "code",
   "execution_count": 6,
   "id": "8bea676f-43fc-4f31-a70a-d8a75b5c18bf",
   "metadata": {},
   "outputs": [
    {
     "data": {
      "text/plain": [
       "6"
      ]
     },
     "execution_count": 6,
     "metadata": {},
     "output_type": "execute_result"
    }
   ],
   "source": [
    "encoded_image = trainer.network.encoder(torch.rand(2, 1, 32, 512, 512))\n",
    "len(encoded_image)"
   ]
  },
  {
   "cell_type": "code",
   "execution_count": 7,
   "id": "64abf869-8526-4864-99ba-f166dbf0acf0",
   "metadata": {},
   "outputs": [
    {
     "name": "stdout",
     "output_type": "stream",
     "text": [
      "feature [0]: torch.Size([2, 32, 32, 512, 512])\n",
      "feature [1]: torch.Size([2, 64, 16, 256, 256])\n",
      "feature [2]: torch.Size([2, 128, 8, 128, 128])\n",
      "feature [3]: torch.Size([2, 256, 4, 64, 64])\n",
      "feature [4]: torch.Size([2, 320, 2, 32, 32])\n",
      "feature [5]: torch.Size([2, 320, 2, 16, 16])\n"
     ]
    }
   ],
   "source": [
    "for i, feature in enumerate(encoded_image):\n",
    "    print(f'feature [{i}]: {feature.shape}')"
   ]
  },
  {
   "cell_type": "code",
   "execution_count": 28,
   "id": "0cc2d6c9-2ec9-41a1-98ec-18f85b9b4e69",
   "metadata": {},
   "outputs": [],
   "source": [
    "# torch.nn.functional.\n",
    "from timm.models.layers import create_classifier\n",
    "\n",
    "global_pool, classifier = create_classifier(\n",
    "    num_features=len(encoded_image),\n",
    "    num_classes=0,\n",
    "    pool_type='avg',\n",
    ")"
   ]
  },
  {
   "cell_type": "code",
   "execution_count": 39,
   "id": "8c3735d8-0c76-4aaf-9e21-391ea697be5c",
   "metadata": {},
   "outputs": [],
   "source": [
    "pool = torch.nn.Sequential(\n",
    "    torch.nn.AdaptiveAvgPool3d(1),\n",
    "    torch.nn.Flatten(),\n",
    ")"
   ]
  },
  {
   "cell_type": "code",
   "execution_count": 40,
   "id": "00f716ae-181b-4762-9494-c2d5d5c0489a",
   "metadata": {},
   "outputs": [
    {
     "name": "stdout",
     "output_type": "stream",
     "text": [
      "Pooled feature [0]: torch.Size([2, 32])\n",
      "Pooled feature [1]: torch.Size([2, 64])\n",
      "Pooled feature [2]: torch.Size([2, 128])\n",
      "Pooled feature [3]: torch.Size([2, 256])\n",
      "Pooled feature [4]: torch.Size([2, 320])\n",
      "Pooled feature [5]: torch.Size([2, 320])\n"
     ]
    }
   ],
   "source": [
    "for i, feature in enumerate(encoded_image):\n",
    "    print(f'Pooled feature [{i}]: {pool(feature).shape}')"
   ]
  },
  {
   "cell_type": "code",
   "execution_count": 43,
   "id": "9aeec191-a0e6-471c-b766-b9d5b58190ac",
   "metadata": {},
   "outputs": [
    {
     "data": {
      "text/plain": [
       "torch.Size([2, 1120])"
      ]
     },
     "execution_count": 43,
     "metadata": {},
     "output_type": "execute_result"
    }
   ],
   "source": [
    "pooled_features = [pool(feature) for feature in encoded_image]\n",
    "pooled_features = torch.cat(pooled_features, axis=1)\n",
    "pooled_features.shape"
   ]
  },
  {
   "cell_type": "code",
   "execution_count": 48,
   "id": "587c2b6b-ae01-48e7-aae4-2419a2415cc2",
   "metadata": {},
   "outputs": [
    {
     "name": "stdout",
     "output_type": "stream",
     "text": [
      "Using device: cpu\n"
     ]
    },
    {
     "data": {
      "text/html": [
       "Finishing last run (ID:7czq6bv7) before initializing another..."
      ],
      "text/plain": [
       "<IPython.core.display.HTML object>"
      ]
     },
     "metadata": {},
     "output_type": "display_data"
    },
    {
     "data": {
      "text/html": [
       "You can sync this run to the cloud by running:<br/><code>wandb sync /home/gridsan/nchutisilp/datasets/nnUNet_Datasets/nnUNet_results/Dataset302_Calcium_OCTv2/nnUNetTrainer__nnUNetPlans__3d_32x512x512_b2/fold_0/wandb/offline-run-20240717_142547-7czq6bv7<code>"
      ],
      "text/plain": [
       "<IPython.core.display.HTML object>"
      ]
     },
     "metadata": {},
     "output_type": "display_data"
    },
    {
     "data": {
      "text/html": [
       "Find logs at: <code>/home/gridsan/nchutisilp/datasets/nnUNet_Datasets/nnUNet_results/Dataset302_Calcium_OCTv2/nnUNetTrainer__nnUNetPlans__3d_32x512x512_b2/fold_0/wandb/offline-run-20240717_142547-7czq6bv7/logs</code>"
      ],
      "text/plain": [
       "<IPython.core.display.HTML object>"
      ]
     },
     "metadata": {},
     "output_type": "display_data"
    },
    {
     "data": {
      "text/html": [
       "Successfully finished last run (ID:7czq6bv7). Initializing new run:<br/>"
      ],
      "text/plain": [
       "<IPython.core.display.HTML object>"
      ]
     },
     "metadata": {},
     "output_type": "display_data"
    },
    {
     "data": {
      "text/html": [
       "Tracking run with wandb version 0.16.6"
      ],
      "text/plain": [
       "<IPython.core.display.HTML object>"
      ]
     },
     "metadata": {},
     "output_type": "display_data"
    },
    {
     "data": {
      "text/html": [
       "W&B syncing is set to <code>`offline`<code> in this directory.  <br/>Run <code>`wandb online`<code> or set <code>WANDB_MODE=online<code> to enable cloud syncing."
      ],
      "text/plain": [
       "<IPython.core.display.HTML object>"
      ]
     },
     "metadata": {},
     "output_type": "display_data"
    },
    {
     "name": "stdout",
     "output_type": "stream",
     "text": [
      "\n",
      "#######################################################################\n",
      "Please cite the following paper when using nnU-Net:\n",
      "Isensee, F., Jaeger, P. F., Kohl, S. A., Petersen, J., & Maier-Hein, K. H. (2021). nnU-Net: a self-configuring method for deep learning-based biomedical image segmentation. Nature methods, 18(2), 203-211.\n",
      "#######################################################################\n",
      "\n",
      "2024-07-17 15:07:27.477615: Using torch.compile...\n"
     ]
    },
    {
     "name": "stderr",
     "output_type": "stream",
     "text": [
      "/home/gridsan/nchutisilp/.local/lib/python3.9/site-packages/torch/optim/lr_scheduler.py:28: UserWarning: The verbose parameter is deprecated. Please use get_last_lr() to access the learning rate.\n",
      "  warnings.warn(\"The verbose parameter is deprecated. Please use get_last_lr() \"\n"
     ]
    }
   ],
   "source": [
    "encoder = ImageEncoder()"
   ]
  },
  {
   "cell_type": "code",
   "execution_count": 50,
   "id": "2d4411c2-6855-4289-aee0-7aa98abecc4f",
   "metadata": {},
   "outputs": [
    {
     "data": {
      "text/plain": [
       "torch.Size([2, 1120])"
      ]
     },
     "execution_count": 50,
     "metadata": {},
     "output_type": "execute_result"
    }
   ],
   "source": [
    "encoder(torch.rand(2, 1, 32, 512, 512)).shape"
   ]
  }
 ],
 "metadata": {
  "kernelspec": {
   "display_name": "Python [conda env:.conda-jepa]",
   "language": "python",
   "name": "conda-env-.conda-jepa-py"
  },
  "language_info": {
   "codemirror_mode": {
    "name": "ipython",
    "version": 3
   },
   "file_extension": ".py",
   "mimetype": "text/x-python",
   "name": "python",
   "nbconvert_exporter": "python",
   "pygments_lexer": "ipython3",
   "version": "3.9.19"
  }
 },
 "nbformat": 4,
 "nbformat_minor": 5
}
